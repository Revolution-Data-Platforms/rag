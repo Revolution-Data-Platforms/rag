{
 "cells": [
  {
   "cell_type": "markdown",
   "metadata": {},
   "source": [
    "# uOttawa/Ciena Gen AI Project: Load, Split and Store PDF Document\n"
   ]
  },
  {
   "cell_type": "markdown",
   "metadata": {},
   "source": [
    "## Import Libraries\n"
   ]
  },
  {
   "cell_type": "code",
   "execution_count": 1,
   "metadata": {},
   "outputs": [],
   "source": [
    "from langchain.document_loaders import PyPDFLoader\n",
    "from langchain.embeddings import HuggingFaceInstructEmbeddings\n",
    "from langchain.vectorstores import Chroma\n",
    "\n",
    "import os"
   ]
  },
  {
   "cell_type": "markdown",
   "metadata": {},
   "source": [
    "## Load/Split PDF and Initialize INSTRUCTOR Embedder\n"
   ]
  },
  {
   "cell_type": "code",
   "execution_count": 8,
   "metadata": {},
   "outputs": [
    {
     "name": "stdout",
     "output_type": "stream",
     "text": [
      "load INSTRUCTOR_Transformer\n",
      "max_seq_length  512\n"
     ]
    }
   ],
   "source": [
    "loader = PyPDFLoader(\"data/test.pdf\")\n",
    "pages = loader.load_and_split()\n",
    "\n",
    "embedding = HuggingFaceInstructEmbeddings()"
   ]
  },
  {
   "cell_type": "markdown",
   "metadata": {},
   "source": [
    "## Create (and Persist) Vector Store\n"
   ]
  },
  {
   "cell_type": "code",
   "execution_count": 3,
   "metadata": {},
   "outputs": [],
   "source": [
    "persist_dir = \"data/vectorstore\"\n",
    "\n",
    "if not os.path.exists(persist_dir):\n",
    "    vectordb = Chroma.from_documents(\n",
    "        documents=pages,\n",
    "        embedding=embedding,\n",
    "        persist_directory=persist_dir,\n",
    "    )\n",
    "\n",
    "    vectordb.persist()\n",
    "\n",
    "else:\n",
    "    vectordb = Chroma(\n",
    "        persist_directory=persist_dir,\n",
    "        embedding_function=embedding,\n",
    "    )"
   ]
  },
  {
   "cell_type": "markdown",
   "metadata": {},
   "source": [
    "## Perform Basic Similarity Search\n"
   ]
  },
  {
   "cell_type": "code",
   "execution_count": 5,
   "metadata": {},
   "outputs": [
    {
     "data": {
      "text/plain": [
       "[Document(page_content='11-21 \\n                           TL1 Command Guide for Cisco NCS 4000 Series , R 6.5.28  \\n \\n 1.11 Log Out of TL1  \\nWhen you have finished using TL1, you must log out of the session. Logging out of TL1 only has to be done once per  \\nsession.  \\nStep 1  If you logged into TL1 via Cisco Transport Controller (CTC), you must log out by pressing the \\nDisconnect button or by issuing the CANC -USER command as shown in the following steps.  \\n \\nIf you l ogged into TL1 via Telnet or craft interface, you must log out by issuing the CANC -USER command.  \\n \\nInput Format:  \\nCANC -USER:[<TID>]:<USERID>:<CTAG>;  \\n• TID is the name of the node you want to access. If you only want to query the node you connected to, \\nleave th e TID blank.  \\n• USERID is the user ID. Maximum 10 alphanumeric characters.  \\n• CTAG is any non- blank character series that does not have to be unique.  \\n \\nInput Example:  \\nCANC -USER:PETALUMA:DXT:100;  \\n \\nStep 2  Confirm you receive a COMPLD response to indicate the command was c ompleted successfully.  \\n \\nResponse Example:  \\nTID001 03- 07-22 02:45:12  \\nM 100 COMPLD;', metadata={'source': 'data/test.pdf', 'page': 13}),\n",
       " Document(page_content='11-11 \\n                           TL1 Command Guide for Cisco NCS 4000 Series , R 6.5.28  \\n \\n • UID is your user ID. UID can be up to 10 characters.  \\n• CTAG is any non- blank character series that does not have to be unique.  \\n• PID is your password. PID can be up to 10 characters. PIDs are encrypted and are displayed as asterisks (*).  \\nInput Example:  \\nACT -USER:PETALUMA :DXT:100 ::MYPASSWD;  \\nStep 2  Confirm you receive a COMPLD response to indicate the command was completed successfully.  \\nResponse Example:  \\nTID-000 1998 -06-20 14:30:00  \\nM 001 COMPLD  \\nDXT:2003 -01-02 14- 04-49,0;  \\n1.4. Command Action and Categories  \\nWhen you have connected and logged into a TL1 session, you are ready to begin issuing TL1 commands and autonomous \\nmessages. TL1 commands and autonomous messages can be used to accomplish a variety of actions. Determining the correct \\ncommand or autonomous message you need begins with identifying what action you want to perform. The first part of every \\ncommand and autonomous message helps identify the action that command or autonomous message performs.  \\n \\nTable 1 -1 TL1 Command and Autonomous message Action  \\nCommand or Autonomous Mes-\\nsage That Begin With  Generally Do This  Example  \\nACT   Activate  ACT -USER  \\nALW   Allow  ALW -MSG -ALL  \\nCANC (autonomous message)  Report  CANC (reports a cancelled session)  \\nCANC   Cancel  CANC -USER  \\nDLT   Delete  DLT -TADRMAP   \\nED Edit/Change  ED-NE-GEN  \\nENT  Enter/Create  ENT -CRS   \\nINH  Inhibit  INH-MSG -ALL  \\nINIT   Initialize  INIT -SYS  \\nREPT (autonomous message)  Report  REPT EVT -<MOD2>  \\nRLS  Release  RLS-PROTNSW -<MOD2>  \\nRMV   Remove  RMV -<MOD2>  \\nRST  Restore  RST-<MOD2>  \\nRTRV   Retrieve  RTRV -TRC -<MOD2>   \\nSCHED   Schedule  SCHED -PMREPT -<MOD2>  \\nSET  Set  SET-ATTR -SECUDFLT', metadata={'source': 'data/test.pdf', 'page': 3})]"
      ]
     },
     "execution_count": 5,
     "metadata": {},
     "output_type": "execute_result"
    }
   ],
   "source": [
    "vectordb.similarity_search(\"log out\", k=2)"
   ]
  }
 ],
 "metadata": {
  "kernelspec": {
   "display_name": "Python 3",
   "language": "python",
   "name": "python3"
  },
  "language_info": {
   "codemirror_mode": {
    "name": "ipython",
    "version": 3
   },
   "file_extension": ".py",
   "mimetype": "text/x-python",
   "name": "python",
   "nbconvert_exporter": "python",
   "pygments_lexer": "ipython3",
   "version": "3.11.4"
  },
  "orig_nbformat": 4
 },
 "nbformat": 4,
 "nbformat_minor": 2
}
