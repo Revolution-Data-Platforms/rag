{
 "cells": [
  {
   "cell_type": "code",
   "execution_count": 1,
   "metadata": {},
   "outputs": [
    {
     "name": "stderr",
     "output_type": "stream",
     "text": [
      "/anaconda/envs/bc/lib/python3.10/site-packages/deeplake/util/check_latest_version.py:32: UserWarning: A newer version of deeplake (3.8.11) is available. It's recommended that you update to the latest version using `pip install -U deeplake`.\n",
      "  warnings.warn(\n",
      "/anaconda/envs/bc/lib/python3.10/site-packages/tqdm/auto.py:21: TqdmWarning: IProgress not found. Please update jupyter and ipywidgets. See https://ipywidgets.readthedocs.io/en/stable/user_install.html\n",
      "  from .autonotebook import tqdm as notebook_tqdm\n"
     ]
    }
   ],
   "source": [
    "from backend.retrieval.ciena_retreival import CienaRetrieval\n",
    "from backend.embedder.baseEmbedder import baseEmbedder\n",
    "embedding_function = baseEmbedder().embedding_function\n",
    "retriael_kwargs = {\n",
    "    \"threshold\": \"0.8\",\n",
    "    \"k\": 8,\n",
    "    \"min_samples\": 2,\n",
    "    \"embedder\": embedding_function,\n",
    "    \"hybrid\": True\n",
    "}\n",
    "\n",
    "ciena_retreival = CienaRetrieval(**retriael_kwargs)"
   ]
  },
  {
   "cell_type": "code",
   "execution_count": null,
   "metadata": {},
   "outputs": [],
   "source": [
    "from backend.retrieval.utils import *\n",
    "from langchain.document_loaders import JSONLoader\n",
    "dir = './output/'\n",
    "loaded_data = []\n",
    "for r, d, f in os.walk(dir):\n",
    "    for file in f:\n",
    "        if '.json' in file and file != 'structuredData.json':\n",
    "            dir_ = file.split('.')[0] + '.pdf'\n",
    "            file_name = os.path.join(dir, dir_, file)\n",
    "            print(file_name)\n",
    "            try:\n",
    "                loader = JSONLoader(\n",
    "                    file_path=file_name,\n",
    "                    jq_schema='.[].content[]',\n",
    "                    content_key=\"text\", \n",
    "                    metadata_func=metadata_func)\n",
    "\n",
    "                loaded_data.extend(loader.load())\n",
    "                print(f\"Successfully loaded file {file_name}\")\n",
    "            except:\n",
    "                print(f\"error in loading  file {file_name}\")\n",
    "                pass\n",
    "\n",
    "len(loaded_data)"
   ]
  },
  {
   "cell_type": "code",
   "execution_count": 3,
   "metadata": {},
   "outputs": [],
   "source": [
    "loaded_data = filter_empty(loaded_data)"
   ]
  },
  {
   "cell_type": "code",
   "execution_count": 4,
   "metadata": {},
   "outputs": [],
   "source": [
    "unique_docs = filter_redundant(loaded_data)"
   ]
  },
  {
   "cell_type": "code",
   "execution_count": 5,
   "metadata": {},
   "outputs": [],
   "source": [
    "query = \"give me a table for ciena's BPO Runtime License\"\n",
    "res = ciena_retreival.get_res(query= query, docs= unique_docs)"
   ]
  },
  {
   "cell_type": "code",
   "execution_count": 6,
   "metadata": {},
   "outputs": [],
   "source": [
    "res = remove_duplicates(res)"
   ]
  },
  {
   "cell_type": "code",
   "execution_count": 7,
   "metadata": {},
   "outputs": [],
   "source": [
    "from backend.retrieval.rereanker import Reranker\n",
    "reranker = Reranker()\n",
    "reranked_res = reranker.rerank(query, res)"
   ]
  },
  {
   "cell_type": "code",
   "execution_count": 11,
   "metadata": {},
   "outputs": [
    {
     "data": {
      "text/plain": [
       "[Document(page_content='Table 3. BPO Runtime Licenses ', metadata={'header': 'BPO runtime licenses ', 'page_number': 7, 'seq_num': 322, 'source': '/mnt/batch/tasks/shared/LS_root/mounts/clusters/ahmed1/code/Clients/Ciena-Gen-AI/output/10Aug-BP_Engineering_guide.pdf/10Aug-BP_Engineering_guide.json', 'table_path': '', 'type': 'P[27]'})]"
      ]
     },
     "execution_count": 11,
     "metadata": {},
     "output_type": "execute_result"
    }
   ],
   "source": [
    "reranked_res"
   ]
  },
  {
   "cell_type": "code",
   "execution_count": 9,
   "metadata": {},
   "outputs": [],
   "source": [
    "context = ciena_retreival.get_context(reranked_res)"
   ]
  },
  {
   "cell_type": "code",
   "execution_count": 10,
   "metadata": {},
   "outputs": [
    {
     "data": {
      "text/plain": [
       "['Table 3. BPO Runtime Licenses ',\n",
       " 'The following tables list the licenses to run the software application. ']"
      ]
     },
     "execution_count": 10,
     "metadata": {},
     "output_type": "execute_result"
    }
   ],
   "source": [
    "context = list(set(context))\n",
    "context"
   ]
  },
  {
   "cell_type": "code",
   "execution_count": 1,
   "metadata": {},
   "outputs": [],
   "source": [
    "test = {'header': '', 'page_number': 7, 'seq_num': 321, 'source': '/mnt/batch/tasks/shared/LS_root/mounts/clusters/ahmed1/code/Clients/Ciena-Gen-AI/output/10Aug-BP_Engineering_guide.pdf/10Aug-BP_Engineering_guide.json', 'table_path': 'tables/fileoutpart3.xlsx', 'type': 'Table'}"
   ]
  },
  {
   "cell_type": "code",
   "execution_count": 2,
   "metadata": {},
   "outputs": [
    {
     "name": "stderr",
     "output_type": "stream",
     "text": [
      "/anaconda/envs/bc/lib/python3.10/site-packages/deeplake/util/check_latest_version.py:32: UserWarning: A newer version of deeplake (3.8.11) is available. It's recommended that you update to the latest version using `pip install -U deeplake`.\n",
      "  warnings.warn(\n",
      "/anaconda/envs/bc/lib/python3.10/site-packages/tqdm/auto.py:21: TqdmWarning: IProgress not found. Please update jupyter and ipywidgets. See https://ipywidgets.readthedocs.io/en/stable/user_install.html\n",
      "  from .autonotebook import tqdm as notebook_tqdm\n"
     ]
    }
   ],
   "source": [
    "from backend.retrieval.ciena_retreival import CienaRetrieval\n",
    "from backend.embedder.baseEmbedder import baseEmbedder\n",
    "embedding_function = baseEmbedder().embedding_function\n",
    "retriael_kwargs = {\n",
    "    \"threshold\": \"0.8\",\n",
    "    \"k\": 20,\n",
    "    \"embedder\": embedding_function,\n",
    "    \"hybrid\": True\n",
    "}\n",
    "ciena_retreival = CienaRetrieval(**retriael_kwargs)"
   ]
  },
  {
   "cell_type": "code",
   "execution_count": 5,
   "metadata": {},
   "outputs": [
    {
     "name": "stdout",
     "output_type": "stream",
     "text": [
      "['|    | PRODUCT _x000D_   | LICENSE(S) TO ORDER _x000D_   |\\n|---:|:------------------|:------------------------------|\\n|  0 | BPI _x000D_       | S19-BP-FED-S1P0 _x000D_       |\\n|  1 | MDSO _x000D_      | S19-LIC-BP-MDSO _x000D_       |\\n|  2 | NFVO _x000D_      | S19-LIC-BP-NFVO _x000D_       |\\n|  3 | ROA _x000D_       | S19-LIC-BP-ROA _x000D_        |']\n"
     ]
    }
   ],
   "source": [
    "context = []\n",
    "from backend.retrieval.utils import *\n",
    "table_dir = './output/10Aug-BP_Engineering_guide.pdf'\n",
    "res = [test]\n",
    "if 'Table'in test[\"type\"] and test['table_path'] != '':\n",
    "    context.append(md_table(os.path.join(table_dir, test['table_path'])))\n",
    "\n",
    "\n",
    "print(context)"
   ]
  },
  {
   "cell_type": "code",
   "execution_count": null,
   "metadata": {},
   "outputs": [],
   "source": []
  },
  {
   "cell_type": "code",
   "execution_count": null,
   "metadata": {},
   "outputs": [],
   "source": [
    "get_context(relevant_docs)"
   ]
  }
 ],
 "metadata": {
  "kernelspec": {
   "display_name": "bc",
   "language": "python",
   "name": "python3"
  },
  "language_info": {
   "codemirror_mode": {
    "name": "ipython",
    "version": 3
   },
   "file_extension": ".py",
   "mimetype": "text/x-python",
   "name": "python",
   "nbconvert_exporter": "python",
   "pygments_lexer": "ipython3",
   "version": "3.10.12"
  }
 },
 "nbformat": 4,
 "nbformat_minor": 2
}
