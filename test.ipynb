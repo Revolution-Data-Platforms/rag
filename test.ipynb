{
 "cells": [
  {
   "cell_type": "code",
   "execution_count": 1,
   "metadata": {},
   "outputs": [
    {
     "name": "stderr",
     "output_type": "stream",
     "text": [
      "/anaconda/envs/bc/lib/python3.10/site-packages/deeplake/util/check_latest_version.py:32: UserWarning: A newer version of deeplake (3.8.12) is available. It's recommended that you update to the latest version using `pip install -U deeplake`.\n",
      "  warnings.warn(\n",
      "/anaconda/envs/bc/lib/python3.10/site-packages/tqdm/auto.py:21: TqdmWarning: IProgress not found. Please update jupyter and ipywidgets. See https://ipywidgets.readthedocs.io/en/stable/user_install.html\n",
      "  from .autonotebook import tqdm as notebook_tqdm\n"
     ]
    }
   ],
   "source": [
    "from backend.retrieval.ciena_retreival import CienaRetrieval\n",
    "from backend.embedder.baseEmbedder import baseEmbedder\n",
    "embedding_function = baseEmbedder().embedding_function\n",
    "retriael_kwargs = {\n",
    "    \"threshold\": \"0.8\",\n",
    "    \"k\": 8,\n",
    "    \"min_samples\": 2,\n",
    "    \"embedder\": embedding_function,\n",
    "    \"hybrid\": True\n",
    "}\n",
    "\n",
    "ciena_retreival = CienaRetrieval(**retriael_kwargs)"
   ]
  },
  {
   "cell_type": "code",
   "execution_count": 3,
   "metadata": {},
   "outputs": [
    {
     "name": "stdout",
     "output_type": "stream",
     "text": [
      "./output/10Aug-BP_Engineering_guide.pdf/10Aug-BP_Engineering_guide.json\n",
      "Successfully loaded file ./output/10Aug-BP_Engineering_guide.pdf/10Aug-BP_Engineering_guide.json\n",
      "./output/11Aug-BP_Engineering_guide.pdf/11Aug-BP_Engineering_guide.json\n",
      "Successfully loaded file ./output/11Aug-BP_Engineering_guide.pdf/11Aug-BP_Engineering_guide.json\n",
      "./output/16Aug-BP_Engineering_Guide.pdf/16Aug-BP_Engineering_Guide.json\n",
      "Successfully loaded file ./output/16Aug-BP_Engineering_Guide.pdf/16Aug-BP_Engineering_Guide.json\n",
      "./output/17-Dec-UAA_21.pdf/17-Dec-UAA_21.json\n",
      "error in loading  file ./output/17-Dec-UAA_21.pdf/17-Dec-UAA_21.json\n",
      "./output/24-Jan-450-3704-300-2110-UAA_21.pdf/24-Jan-450-3704-300-2110-UAA_21.json\n",
      "error in loading  file ./output/24-Jan-450-3704-300-2110-UAA_21.pdf/24-Jan-450-3704-300-2110-UAA_21.json\n",
      "./output/25Aug_Blue_Planet_Engineering_Guide_2208.pdf/25Aug_Blue_Planet_Engineering_Guide_2208.json\n",
      "Successfully loaded file ./output/25Aug_Blue_Planet_Engineering_Guide_2208.pdf/25Aug_Blue_Planet_Engineering_Guide_2208.json\n",
      "./output/25July-BP_Engineering_guide.pdf/25July-BP_Engineering_guide.json\n",
      "Successfully loaded file ./output/25July-BP_Engineering_guide.pdf/25July-BP_Engineering_guide.json\n",
      "./output/450-3702-420-2202_BPO_Security_Guide.pdf/450-3702-420-2202_BPO_Security_Guide.json\n",
      "Successfully loaded file ./output/450-3702-420-2202_BPO_Security_Guide.pdf/450-3702-420-2202_BPO_Security_Guide.json\n",
      "./output/450-3708-523-2106_Blue_Planet_5G-Network_Slicing_IAS_Installation_Guide_Issue-1.pdf/450-3708-523-2106_Blue_Planet_5G-Network_Slicing_IAS_Installation_Guide_Issue-1.json\n",
      "Successfully loaded file ./output/450-3708-523-2106_Blue_Planet_5G-Network_Slicing_IAS_Installation_Guide_Issue-1.pdf/450-3708-523-2106_Blue_Planet_5G-Network_Slicing_IAS_Installation_Guide_Issue-1.json\n",
      "./output/5G_Netwrok_Slicing_Installation_Guide_21.pdf/5G_Netwrok_Slicing_Installation_Guide_21.json\n",
      "error in loading  file ./output/5G_Netwrok_Slicing_Installation_Guide_21.pdf/5G_Netwrok_Slicing_Installation_Guide_21.json\n",
      "./output/Blue Planet Cloud Deployment Guide 20.pdf/Blue Planet Cloud Deployment Guide 20.json\n",
      "error in loading  file ./output/Blue Planet Cloud Deployment Guide 20.pdf/Blue Planet Cloud Deployment Guide 20.json\n",
      "./output/Blue_Planet_Engineering_Guide_2208.pdf/Blue_Planet_Engineering_Guide_2208.json\n",
      "Successfully loaded file ./output/Blue_Planet_Engineering_Guide_2208.pdf/Blue_Planet_Engineering_Guide_2208.json\n",
      "./output/Blue_Planet_Engineering_Guide_2208_Issue_1-0.pdf/Blue_Planet_Engineering_Guide_2208_Issue_1-0.json\n",
      "Successfully loaded file ./output/Blue_Planet_Engineering_Guide_2208_Issue_1-0.pdf/Blue_Planet_Engineering_Guide_2208_Issue_1-0.json\n",
      "./output/Blue_Planet_Engineering_Guide_2208_Issue_1-1.pdf/Blue_Planet_Engineering_Guide_2208_Issue_1-1.json\n",
      "Successfully loaded file ./output/Blue_Planet_Engineering_Guide_2208_Issue_1-1.pdf/Blue_Planet_Engineering_Guide_2208_Issue_1-1.json\n",
      "./output/Blue_Planet_MLA_Cloud_Deployment_Guide.pdf/Blue_Planet_MLA_Cloud_Deployment_Guide.json\n",
      "Successfully loaded file ./output/Blue_Planet_MLA_Cloud_Deployment_Guide.pdf/Blue_Planet_MLA_Cloud_Deployment_Guide.json\n",
      "./output/BP_Engineering_Guide.pdf/BP_Engineering_Guide.json\n",
      "Successfully loaded file ./output/BP_Engineering_Guide.pdf/BP_Engineering_Guide.json\n",
      "./output/BP_Security_Guide_2304_1-0.pdf/BP_Security_Guide_2304_1-0.json\n",
      "Successfully loaded file ./output/BP_Security_Guide_2304_1-0.pdf/BP_Security_Guide_2304_1-0.json\n",
      "./output/old.pdf/old.json\n",
      "Successfully loaded file ./output/old.pdf/old.json\n",
      "./output/uaa-admin-guide.pdf/uaa-admin-guide.json\n",
      "error in loading  file ./output/uaa-admin-guide.pdf/uaa-admin-guide.json\n",
      "./output/updateddraft_5g_nsinstallguide_21.pdf/updateddraft_5g_nsinstallguide_21.json\n",
      "error in loading  file ./output/updateddraft_5g_nsinstallguide_21.pdf/updateddraft_5g_nsinstallguide_21.json\n"
     ]
    },
    {
     "data": {
      "text/plain": [
       "39941"
      ]
     },
     "execution_count": 3,
     "metadata": {},
     "output_type": "execute_result"
    }
   ],
   "source": [
    "from backend.retrieval.utils import *\n",
    "from langchain.document_loaders import JSONLoader\n",
    "dir = './output/'\n",
    "loaded_data = []\n",
    "for r, d, f in os.walk(dir):\n",
    "    for file in f:\n",
    "        if '.json' in file and file != 'structuredData.json':\n",
    "            dir_ = file.rsplit('.')[0] + '.pdf'\n",
    "            file_name = os.path.join(dir, dir_, file)\n",
    "            print(file_name)\n",
    "            try:\n",
    "                loader = JSONLoader(\n",
    "                    file_path=file_name,\n",
    "                    jq_schema='.[].content[]',\n",
    "                    content_key=\"text\", \n",
    "                    metadata_func=metadata_func)\n",
    "\n",
    "                loaded_data.extend(loader.load())\n",
    "                print(f\"Successfully loaded file {file_name}\")\n",
    "            except:\n",
    "                print(f\"error in loading  file {file_name}\")\n",
    "                pass\n",
    "\n",
    "len(loaded_data)"
   ]
  },
  {
   "cell_type": "code",
   "execution_count": 8,
   "metadata": {},
   "outputs": [],
   "source": [
    "from langchain.prompts import PromptTemplate\n",
    "from langchain.prompts.chat import (\n",
    "    ChatPromptTemplate,\n",
    "    SystemMessagePromptTemplate,\n",
    "    AIMessagePromptTemplate,\n",
    "    HumanMessagePromptTemplate,\n",
    ")\n",
    "\n",
    "prompt=PromptTemplate(\n",
    "    template=\"You are a helpful assistant that translates {input_language} to {output_language}.\",\n",
    "    input_variables=[\"input_language\", \"output_language\"],\n",
    ")\n",
    "system_message_prompt = SystemMessagePromptTemplate(prompt=prompt)"
   ]
  },
  {
   "cell_type": "code",
   "execution_count": 9,
   "metadata": {},
   "outputs": [
    {
     "data": {
      "text/plain": [
       "SystemMessagePromptTemplate(prompt=PromptTemplate(input_variables=['input_language', 'output_language'], template='You are a helpful assistant that translates {input_language} to {output_language}.'))"
      ]
     },
     "execution_count": 9,
     "metadata": {},
     "output_type": "execute_result"
    }
   ],
   "source": [
    "system_message_prompt"
   ]
  },
  {
   "cell_type": "code",
   "execution_count": 3,
   "metadata": {},
   "outputs": [],
   "source": [
    "loaded_data = filter_empty(loaded_data)"
   ]
  },
  {
   "cell_type": "code",
   "execution_count": 4,
   "metadata": {},
   "outputs": [],
   "source": [
    "unique_docs = filter_redundant(loaded_data)"
   ]
  },
  {
   "cell_type": "code",
   "execution_count": 5,
   "metadata": {},
   "outputs": [],
   "source": [
    "query = \"give me a table for ciena's BPO Runtime License\"\n",
    "res = ciena_retreival.get_res(query= query, docs= unique_docs)"
   ]
  },
  {
   "cell_type": "code",
   "execution_count": 6,
   "metadata": {},
   "outputs": [],
   "source": [
    "res = remove_duplicates(res)"
   ]
  },
  {
   "cell_type": "code",
   "execution_count": 7,
   "metadata": {},
   "outputs": [],
   "source": [
    "from backend.retrieval.rereanker import Reranker\n",
    "reranker = Reranker()\n",
    "reranked_res = reranker.rerank(query, res)"
   ]
  },
  {
   "cell_type": "code",
   "execution_count": 11,
   "metadata": {},
   "outputs": [
    {
     "data": {
      "text/plain": [
       "[Document(page_content='Table 3. BPO Runtime Licenses ', metadata={'header': 'BPO runtime licenses ', 'page_number': 7, 'seq_num': 322, 'source': '/mnt/batch/tasks/shared/LS_root/mounts/clusters/ahmed1/code/Clients/Ciena-Gen-AI/output/10Aug-BP_Engineering_guide.pdf/10Aug-BP_Engineering_guide.json', 'table_path': '', 'type': 'P[27]'})]"
      ]
     },
     "execution_count": 11,
     "metadata": {},
     "output_type": "execute_result"
    }
   ],
   "source": [
    "reranked_res"
   ]
  },
  {
   "cell_type": "code",
   "execution_count": 9,
   "metadata": {},
   "outputs": [],
   "source": [
    "context = ciena_retreival.get_context(reranked_res)"
   ]
  },
  {
   "cell_type": "code",
   "execution_count": 10,
   "metadata": {},
   "outputs": [
    {
     "data": {
      "text/plain": [
       "['Table 3. BPO Runtime Licenses ',\n",
       " 'The following tables list the licenses to run the software application. ']"
      ]
     },
     "execution_count": 10,
     "metadata": {},
     "output_type": "execute_result"
    }
   ],
   "source": [
    "context = list(set(context))\n",
    "context"
   ]
  },
  {
   "cell_type": "code",
   "execution_count": 1,
   "metadata": {},
   "outputs": [],
   "source": [
    "test = {'header': '', 'page_number': 7, 'seq_num': 321, 'source': '/mnt/batch/tasks/shared/LS_root/mounts/clusters/ahmed1/code/Clients/Ciena-Gen-AI/output/10Aug-BP_Engineering_guide.pdf/10Aug-BP_Engineering_guide.json', 'table_path': 'tables/fileoutpart3.xlsx', 'type': 'Table'}"
   ]
  },
  {
   "cell_type": "code",
   "execution_count": 2,
   "metadata": {},
   "outputs": [
    {
     "name": "stderr",
     "output_type": "stream",
     "text": [
      "/anaconda/envs/bc/lib/python3.10/site-packages/deeplake/util/check_latest_version.py:32: UserWarning: A newer version of deeplake (3.8.11) is available. It's recommended that you update to the latest version using `pip install -U deeplake`.\n",
      "  warnings.warn(\n",
      "/anaconda/envs/bc/lib/python3.10/site-packages/tqdm/auto.py:21: TqdmWarning: IProgress not found. Please update jupyter and ipywidgets. See https://ipywidgets.readthedocs.io/en/stable/user_install.html\n",
      "  from .autonotebook import tqdm as notebook_tqdm\n"
     ]
    }
   ],
   "source": [
    "from backend.retrieval.ciena_retreival import CienaRetrieval\n",
    "from backend.embedder.baseEmbedder import baseEmbedder\n",
    "embedding_function = baseEmbedder().embedding_function\n",
    "retriael_kwargs = {\n",
    "    \"threshold\": \"0.8\",\n",
    "    \"k\": 20,\n",
    "    \"embedder\": embedding_function,\n",
    "    \"hybrid\": True\n",
    "}\n",
    "ciena_retreival = CienaRetrieval(**retriael_kwargs)"
   ]
  },
  {
   "cell_type": "code",
   "execution_count": 5,
   "metadata": {},
   "outputs": [
    {
     "name": "stdout",
     "output_type": "stream",
     "text": [
      "['|    | PRODUCT _x000D_   | LICENSE(S) TO ORDER _x000D_   |\\n|---:|:------------------|:------------------------------|\\n|  0 | BPI _x000D_       | S19-BP-FED-S1P0 _x000D_       |\\n|  1 | MDSO _x000D_      | S19-LIC-BP-MDSO _x000D_       |\\n|  2 | NFVO _x000D_      | S19-LIC-BP-NFVO _x000D_       |\\n|  3 | ROA _x000D_       | S19-LIC-BP-ROA _x000D_        |']\n"
     ]
    }
   ],
   "source": [
    "context = []\n",
    "from backend.retrieval.utils import *\n",
    "table_dir = './output/10Aug-BP_Engineering_guide.pdf'\n",
    "res = [test]\n",
    "if 'Table'in test[\"type\"] and test['table_path'] != '':\n",
    "    context.append(md_table(os.path.join(table_dir, test['table_path'])))\n",
    "\n",
    "\n",
    "print(context)"
   ]
  },
  {
   "cell_type": "code",
   "execution_count": null,
   "metadata": {},
   "outputs": [],
   "source": []
  },
  {
   "cell_type": "code",
   "execution_count": null,
   "metadata": {},
   "outputs": [],
   "source": [
    "get_context(relevant_docs)"
   ]
  }
 ],
 "metadata": {
  "kernelspec": {
   "display_name": "bc",
   "language": "python",
   "name": "python3"
  },
  "language_info": {
   "codemirror_mode": {
    "name": "ipython",
    "version": 3
   },
   "file_extension": ".py",
   "mimetype": "text/x-python",
   "name": "python",
   "nbconvert_exporter": "python",
   "pygments_lexer": "ipython3",
   "version": "3.10.12"
  }
 },
 "nbformat": 4,
 "nbformat_minor": 2
}
